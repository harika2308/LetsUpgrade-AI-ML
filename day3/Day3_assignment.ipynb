{
 "cells": [
  {
   "cell_type": "markdown",
   "metadata": {},
   "source": [
    "1. ___subtraction of comple numbers___"
   ]
  },
  {
   "cell_type": "code",
   "execution_count": 1,
   "metadata": {},
   "outputs": [
    {
     "name": "stdout",
     "output_type": "stream",
     "text": [
      "(1+3j)\n"
     ]
    }
   ],
   "source": [
    "a= 4+5j\n",
    "b= 3+2j\n",
    "print(a-b)"
   ]
  },
  {
   "cell_type": "code",
   "execution_count": 3,
   "metadata": {},
   "outputs": [
    {
     "data": {
      "text/plain": [
       "(1+3j)"
      ]
     },
     "execution_count": 3,
     "metadata": {},
     "output_type": "execute_result"
    }
   ],
   "source": [
    "def subcomplex(x,y):\n",
    " return x-y\n",
    "subcomplex(a,b)"
   ]
  },
  {
   "cell_type": "markdown",
   "metadata": {},
   "source": [
    "2. ___fourth root of a number___\n"
   ]
  },
  {
   "cell_type": "code",
   "execution_count": 29,
   "metadata": {},
   "outputs": [
    {
     "data": {
      "text/plain": [
       "0.3"
      ]
     },
     "execution_count": 29,
     "metadata": {},
     "output_type": "execute_result"
    }
   ],
   "source": [
    "def fourthroot(x):\n",
    " return x**(1/4)\n",
    "fourthroot(0.0081)"
   ]
  },
  {
   "cell_type": "code",
   "execution_count": 8,
   "metadata": {},
   "outputs": [
    {
     "data": {
      "text/plain": [
       "2.0"
      ]
     },
     "execution_count": 8,
     "metadata": {},
     "output_type": "execute_result"
    }
   ],
   "source": [
    "fourthroot(16)"
   ]
  },
  {
   "cell_type": "markdown",
   "metadata": {},
   "source": [
    "3. ___swap 2 numbers with the help of temporary variable___"
   ]
  },
  {
   "cell_type": "code",
   "execution_count": 23,
   "metadata": {},
   "outputs": [
    {
     "data": {
      "text/plain": [
       "(3, 2)"
      ]
     },
     "execution_count": 23,
     "metadata": {},
     "output_type": "execute_result"
    }
   ],
   "source": [
    "def swap_withv(a,b):\n",
    "    x=a\n",
    "    a=b\n",
    "    b=x\n",
    "    return(a,b)\n",
    "swap_withv(2,3)    "
   ]
  },
  {
   "cell_type": "code",
   "execution_count": 25,
   "metadata": {},
   "outputs": [
    {
     "name": "stdout",
     "output_type": "stream",
     "text": [
      " new values of x and y are  10 5\n"
     ]
    }
   ],
   "source": [
    "x=5\n",
    "y=10\n",
    "x,y = swap_withv(x,y)\n",
    "print (\" new values of x and y are \", x,y)"
   ]
  },
  {
   "cell_type": "markdown",
   "metadata": {},
   "source": [
    "4. ___swap without help of temporary variable___"
   ]
  },
  {
   "cell_type": "code",
   "execution_count": 26,
   "metadata": {},
   "outputs": [
    {
     "data": {
      "text/plain": [
       "(3, 2)"
      ]
     },
     "execution_count": 26,
     "metadata": {},
     "output_type": "execute_result"
    }
   ],
   "source": [
    "def swap_withoutv(a,b):\n",
    "    a=a+b\n",
    "    b=a-b\n",
    "    a=a-b\n",
    "    return(a,b)\n",
    "swap_withoutv(2,3)"
   ]
  },
  {
   "cell_type": "code",
   "execution_count": 27,
   "metadata": {},
   "outputs": [
    {
     "name": "stdout",
     "output_type": "stream",
     "text": [
      " new values of x and y are  10 5\n"
     ]
    }
   ],
   "source": [
    "x=5\n",
    "y=10\n",
    "x,y = swap_withoutv(x,y)\n",
    "print (\" new values of x and y are \", x,y)"
   ]
  },
  {
   "cell_type": "markdown",
   "metadata": {},
   "source": [
    "5. ___convert fahrenheit to kelvin and celsius___"
   ]
  },
  {
   "cell_type": "code",
   "execution_count": 32,
   "metadata": {},
   "outputs": [
    {
     "name": "stdout",
     "output_type": "stream",
     "text": [
      " temperature in celsius is  30.0\n",
      " temperature in kelvin is  303.0\n"
     ]
    }
   ],
   "source": [
    " def temp_conversion(temp_F):\n",
    "        temp_C= 5*(temp_F - 32)/9 \n",
    "        temp_K = temp_C+273\n",
    "        print(\" temperature in celsius is \", temp_C)\n",
    "        print(\" temperature in kelvin is \",temp_K)\n",
    "        \n",
    " temp_conversion(86)"
   ]
  },
  {
   "cell_type": "markdown",
   "metadata": {},
   "source": [
    "6. ___data types in Python___"
   ]
  },
  {
   "cell_type": "code",
   "execution_count": 54,
   "metadata": {},
   "outputs": [
    {
     "name": "stdout",
     "output_type": "stream",
     "text": [
      "<class 'int'>\n",
      "<class 'str'>\n",
      "<class 'list'>\n",
      "<class 'list'>\n",
      "<class 'tuple'>\n",
      "<class 'set'>\n",
      "<class 'dict'>\n",
      "<class 'array.array'>\n"
     ]
    }
   ],
   "source": [
    "#integer\n",
    "a=5\n",
    "print(type(a))\n",
    "\n",
    "#string\n",
    "y= \"text\"\n",
    "print(type(y))\n",
    "\n",
    "#list\n",
    "x=[1,2,3]\n",
    "print(type(x))\n",
    "\n",
    "z= ['1', \"text\" , '3' ,' 0.5']\n",
    "print(type(z))\n",
    "\n",
    "#Tuple\n",
    "\n",
    "b= ('1', \"text\" , '3' , '0.5' )\n",
    "print(type(b))\n",
    "\n",
    "#Set\n",
    "c= {'1', \"text\", '3' , '0.5'}\n",
    "print(type(c))\n",
    "\n",
    "#Dictionary\n",
    "d= { 'abc':'text', 1:3 , 'cde':'integer'}\n",
    "print(type(d))\n",
    "\n",
    "#Array\n",
    "import array as arr\n",
    "e= arr.array('i',[1,2,3,45,5])\n",
    "print(type(e))"
   ]
  },
  {
   "cell_type": "markdown",
   "metadata": {},
   "source": [
    "7. ***procedure to submit assignments***"
   ]
  },
  {
   "cell_type": "markdown",
   "metadata": {},
   "source": [
    "step1: Go to gitbub.com , signup and create a github account using gmail if you dont have an account and signin into it.<br>\n",
    "step2: Create a repository with name as LetsUpgrade AI/ML and make it public.<br>\n",
    "step3: Download the python notebook i.e; ipynb file named according to the daywise in which assignment is done and upload the respective file into the created repository by drag and drop method.<br>\n",
    "step4: Commit the changes<br>\n",
    "step5: Copy the url of the respective folder added in the repository and paste it in the assignment submission form (google form)i.e; https://bit.ly/aimlassignment <br>\n",
    "step6: Fill the remaining fields as well in the form and submit it. <br>\n",
    "step7: Make sure you get a confirmation mail from the Letsupgrade team that you have submitted.<br>"
   ]
  },
  {
   "cell_type": "code",
   "execution_count": null,
   "metadata": {},
   "outputs": [],
   "source": []
  }
 ],
 "metadata": {
  "kernelspec": {
   "display_name": "Python 3",
   "language": "python",
   "name": "python3"
  },
  "language_info": {
   "codemirror_mode": {
    "name": "ipython",
    "version": 3
   },
   "file_extension": ".py",
   "mimetype": "text/x-python",
   "name": "python",
   "nbconvert_exporter": "python",
   "pygments_lexer": "ipython3",
   "version": "3.7.4"
  }
 },
 "nbformat": 4,
 "nbformat_minor": 2
}
