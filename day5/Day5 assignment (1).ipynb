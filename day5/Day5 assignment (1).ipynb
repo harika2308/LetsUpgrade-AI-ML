{
 "cells": [
  {
   "cell_type": "markdown",
   "metadata": {},
   "source": [
    "___first 20 non-even prime natural numbersfirst 20 non-even prime natural numbers___"
   ]
  },
  {
   "cell_type": "code",
   "execution_count": 67,
   "metadata": {},
   "outputs": [
    {
     "name": "stdout",
     "output_type": "stream",
     "text": [
      "3\n",
      "5\n",
      "7\n",
      "11\n",
      "13\n",
      "17\n",
      "19\n",
      "23\n",
      "29\n",
      "31\n",
      "37\n",
      "41\n",
      "43\n",
      "47\n",
      "53\n",
      "59\n",
      "61\n",
      "67\n",
      "71\n",
      "73\n"
     ]
    }
   ],
   "source": [
    "def isprime(num):\n",
    "    if num > 1:\n",
    "        for i in range(2, num):\n",
    "            if (num % i) == 0:\n",
    "                return False\n",
    "                break\n",
    "        else:\n",
    "            return True\n",
    "    else:\n",
    "        return False\n",
    "\n",
    "count=0\n",
    "num=2\n",
    "while count < 20:\n",
    "     if isprime(num) and num%2!=0:\n",
    "        print(num)\n",
    "        count = count + 1\n",
    "    \n",
    "     num = num + 1\n"
   ]
  },
  {
   "cell_type": "markdown",
   "metadata": {},
   "source": [
    "___2. string operations___"
   ]
  },
  {
   "cell_type": "code",
   "execution_count": 31,
   "metadata": {},
   "outputs": [
    {
     "name": "stdout",
     "output_type": "stream",
     "text": [
      "rik\n",
      "12\n"
     ]
    }
   ],
   "source": [
    "a= \"Harika Reddy\"\n",
    "#slicing \n",
    "print(a[2:5])\n",
    "#string length\n",
    "print(len(a))\n",
    "\n",
    "\n"
   ]
  },
  {
   "cell_type": "code",
   "execution_count": 34,
   "metadata": {},
   "outputs": [
    {
     "name": "stdout",
     "output_type": "stream",
     "text": [
      "Harika Reddy\n",
      " harika reddy \n",
      " HARIKA REDDY \n",
      " Jarika Reddy \n",
      " hARIKA rEDDY \n",
      "False\n",
      " harika reddy \n",
      "False\n"
     ]
    }
   ],
   "source": [
    "a= \" Harika Reddy \"\n",
    "#strip()\n",
    "print(a.strip())\n",
    "#lower()\n",
    "print(a.lower())\n",
    "#upper\n",
    "print(a.upper())\n",
    "#replace()\n",
    "print(a.replace(\"H\", \"J\"))\n",
    "#swapcase\n",
    "print(a.swapcase()) \n",
    "#isalpha\n",
    "print(a.isalpha())  \n",
    "#casefold\n",
    "print(a.casefold()) \n",
    "#isspac()\n",
    "print(a.isspace())\n"
   ]
  },
  {
   "cell_type": "code",
   "execution_count": 30,
   "metadata": {},
   "outputs": [
    {
     "name": "stdout",
     "output_type": "stream",
     "text": [
      "Harika,2308\n",
      "False\n",
      "4\n",
      "3\n",
      "2\n",
      "False\n",
      "['harika,2308']\n"
     ]
    }
   ],
   "source": [
    "b= \"harika,2308\" \n",
    "#captilalize()\n",
    "print(b.capitalize()) \n",
    "#isupper()\n",
    "print(b.isupper())\n",
    "#find()\n",
    "print(b.find('k'))\n",
    "#index()\n",
    "print(b.index('i'))\n",
    "#count()\n",
    "print(b.count('a'))\n",
    "#isalnum()\n",
    "print(b.isalnum()) \n",
    "#split()\n",
    "print(b.split())\n"
   ]
  },
  {
   "cell_type": "markdown",
   "metadata": {},
   "source": [
    "___3.Palindrome or anagram___"
   ]
  },
  {
   "cell_type": "code",
   "execution_count": 45,
   "metadata": {},
   "outputs": [
    {
     "name": "stdout",
     "output_type": "stream",
     "text": [
      "enter the string you want to check if it is palindrome or anagramabcd\n",
      "It is a anagram\n"
     ]
    }
   ],
   "source": [
    "a= input(\"enter the string you want to check if it is palindrome or anagram\")\n",
    "def ispalindrome(abc):\n",
    "    str=abc\n",
    "    rev_str= abc[::-1]\n",
    "    if str==rev_str:\n",
    "        return True\n",
    "    else:\n",
    "        return False\n",
    "def split(abc): \n",
    "    return [char for char in abc]      \n",
    "def  isanagram(xyz):\n",
    "    if sorted(xyz)==split(xyz):\n",
    "        return True\n",
    "    else:\n",
    "        return False\n",
    "if ispalindrome(a):\n",
    "    print(\"It is a palindrome\")\n",
    "elif isanagram(a):\n",
    "    print(\"It is a anagram\")\n",
    "else:\n",
    "    print(\"It is neither palindrome nor anagram\")\n",
    "    \n"
   ]
  },
  {
   "cell_type": "markdown",
   "metadata": {},
   "source": [
    "___4.remove additional charecters___"
   ]
  },
  {
   "cell_type": "code",
   "execution_count": 60,
   "metadata": {},
   "outputs": [
    {
     "name": "stdout",
     "output_type": "stream",
     "text": [
      "Enter the stringDr. Darshan Ingle@AI-ML Trainer\n",
      " The final string after removing additional charecters is  drdarshaningleaimltrainer\n"
     ]
    }
   ],
   "source": [
    "def func(str):\n",
    "    new_str=\"\"\n",
    "    for ch in str:\n",
    "            if ch.isalnum():\n",
    "                new_str +=ch\n",
    "    new_str= new_str.lower()\n",
    "    return new_str\n",
    "\n",
    "string = input(\"Enter the string\")\n",
    "converted_string= func(string)\n",
    "print(\" The final string after removing additional charecters is \", converted_string)"
   ]
  },
  {
   "cell_type": "code",
   "execution_count": null,
   "metadata": {},
   "outputs": [],
   "source": []
  }
 ],
 "metadata": {
  "kernelspec": {
   "display_name": "Python 3",
   "language": "python",
   "name": "python3"
  },
  "language_info": {
   "codemirror_mode": {
    "name": "ipython",
    "version": 3
   },
   "file_extension": ".py",
   "mimetype": "text/x-python",
   "name": "python",
   "nbconvert_exporter": "python",
   "pygments_lexer": "ipython3",
   "version": "3.7.4"
  }
 },
 "nbformat": 4,
 "nbformat_minor": 2
}
